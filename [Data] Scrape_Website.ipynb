{
 "cells": [
  {
   "cell_type": "code",
   "execution_count": 1,
   "metadata": {},
   "outputs": [
    {
     "name": "stdout",
     "output_type": "stream",
     "text": [
      "Requirement already satisfied: bs4 in c:\\users\\bobse\\appdata\\local\\programs\\python\\python311\\lib\\site-packages (0.0.1)\n",
      "Requirement already satisfied: lxml in c:\\users\\bobse\\appdata\\local\\programs\\python\\python311\\lib\\site-packages (4.9.2)\n",
      "Requirement already satisfied: numpy in c:\\users\\bobse\\appdata\\local\\programs\\python\\python311\\lib\\site-packages (1.24.3)\n",
      "Requirement already satisfied: pandas in c:\\users\\bobse\\appdata\\local\\programs\\python\\python311\\lib\\site-packages (1.5.1)\n",
      "Requirement already satisfied: matplotlib in c:\\users\\bobse\\appdata\\local\\programs\\python\\python311\\lib\\site-packages (3.6.2)\n",
      "Requirement already satisfied: pygsheets in c:\\users\\bobse\\appdata\\local\\programs\\python\\python311\\lib\\site-packages (2.0.5)\n",
      "Requirement already satisfied: gspread in c:\\users\\bobse\\appdata\\local\\programs\\python\\python311\\lib\\site-packages (5.7.1)\n",
      "Requirement already satisfied: requests_html in c:\\users\\bobse\\appdata\\local\\programs\\python\\python311\\lib\\site-packages (0.10.0)\n",
      "Requirement already satisfied: urllib3 in c:\\users\\bobse\\appdata\\local\\programs\\python\\python311\\lib\\site-packages (1.26.16)\n",
      "Requirement already satisfied: selenium in c:\\users\\bobse\\appdata\\local\\programs\\python\\python311\\lib\\site-packages (3.141.0)\n",
      "Requirement already satisfied: msedge-selenium-tools in c:\\users\\bobse\\appdata\\local\\programs\\python\\python311\\lib\\site-packages (3.141.4)\n",
      "Requirement already satisfied: webdriver_manager in c:\\users\\bobse\\appdata\\local\\programs\\python\\python311\\lib\\site-packages (3.8.5)\n",
      "Requirement already satisfied: openpyxl in c:\\users\\bobse\\appdata\\local\\programs\\python\\python311\\lib\\site-packages (3.0.10)\n",
      "Requirement already satisfied: beautifulsoup4 in c:\\users\\bobse\\appdata\\local\\programs\\python\\python311\\lib\\site-packages (from bs4) (4.11.1)\n",
      "Requirement already satisfied: python-dateutil>=2.8.1 in c:\\users\\bobse\\appdata\\roaming\\python\\python311\\site-packages (from pandas) (2.8.2)\n",
      "Requirement already satisfied: pytz>=2020.1 in c:\\users\\bobse\\appdata\\local\\programs\\python\\python311\\lib\\site-packages (from pandas) (2022.6)\n",
      "Requirement already satisfied: contourpy>=1.0.1 in c:\\users\\bobse\\appdata\\local\\programs\\python\\python311\\lib\\site-packages (from matplotlib) (1.0.6)\n",
      "Requirement already satisfied: cycler>=0.10 in c:\\users\\bobse\\appdata\\local\\programs\\python\\python311\\lib\\site-packages (from matplotlib) (0.11.0)\n",
      "Requirement already satisfied: fonttools>=4.22.0 in c:\\users\\bobse\\appdata\\local\\programs\\python\\python311\\lib\\site-packages (from matplotlib) (4.38.0)\n",
      "Requirement already satisfied: kiwisolver>=1.0.1 in c:\\users\\bobse\\appdata\\local\\programs\\python\\python311\\lib\\site-packages (from matplotlib) (1.4.4)\n",
      "Requirement already satisfied: packaging>=20.0 in c:\\users\\bobse\\appdata\\local\\programs\\python\\python311\\lib\\site-packages (from matplotlib) (23.2)\n",
      "Requirement already satisfied: pillow>=6.2.0 in c:\\users\\bobse\\appdata\\local\\programs\\python\\python311\\lib\\site-packages (from matplotlib) (9.3.0)\n",
      "Requirement already satisfied: pyparsing>=2.2.1 in c:\\users\\bobse\\appdata\\roaming\\python\\python311\\site-packages (from matplotlib) (3.0.9)\n",
      "Requirement already satisfied: google-api-python-client>=1.5.5 in c:\\users\\bobse\\appdata\\local\\programs\\python\\python311\\lib\\site-packages (from pygsheets) (2.66.0)\n",
      "Requirement already satisfied: google-auth-oauthlib in c:\\users\\bobse\\appdata\\local\\programs\\python\\python311\\lib\\site-packages (from pygsheets) (0.7.1)\n",
      "Requirement already satisfied: google-auth>=1.12.0 in c:\\users\\bobse\\appdata\\local\\programs\\python\\python311\\lib\\site-packages (from gspread) (2.14.1)\n",
      "Requirement already satisfied: requests in c:\\users\\bobse\\appdata\\local\\programs\\python\\python311\\lib\\site-packages (from requests_html) (2.31.0)\n",
      "Requirement already satisfied: pyquery in c:\\users\\bobse\\appdata\\local\\programs\\python\\python311\\lib\\site-packages (from requests_html) (2.0.0)\n",
      "Requirement already satisfied: fake-useragent in c:\\users\\bobse\\appdata\\local\\programs\\python\\python311\\lib\\site-packages (from requests_html) (1.0.1)\n",
      "Requirement already satisfied: parse in c:\\users\\bobse\\appdata\\local\\programs\\python\\python311\\lib\\site-packages (from requests_html) (1.19.0)\n",
      "Requirement already satisfied: w3lib in c:\\users\\bobse\\appdata\\local\\programs\\python\\python311\\lib\\site-packages (from requests_html) (2.0.1)\n",
      "Requirement already satisfied: pyppeteer>=0.0.14 in c:\\users\\bobse\\appdata\\local\\programs\\python\\python311\\lib\\site-packages (from requests_html) (1.0.2)\n",
      "Requirement already satisfied: python-dotenv in c:\\users\\bobse\\appdata\\local\\programs\\python\\python311\\lib\\site-packages (from webdriver_manager) (0.21.0)\n",
      "Requirement already satisfied: tqdm in c:\\users\\bobse\\appdata\\local\\programs\\python\\python311\\lib\\site-packages (from webdriver_manager) (4.64.1)\n",
      "Requirement already satisfied: et-xmlfile in c:\\users\\bobse\\appdata\\local\\programs\\python\\python311\\lib\\site-packages (from openpyxl) (1.1.0)\n",
      "Requirement already satisfied: httplib2<1dev,>=0.15.0 in c:\\users\\bobse\\appdata\\local\\programs\\python\\python311\\lib\\site-packages (from google-api-python-client>=1.5.5->pygsheets) (0.21.0)\n",
      "Requirement already satisfied: google-auth-httplib2>=0.1.0 in c:\\users\\bobse\\appdata\\local\\programs\\python\\python311\\lib\\site-packages (from google-api-python-client>=1.5.5->pygsheets) (0.1.0)\n",
      "Requirement already satisfied: google-api-core!=2.0.*,!=2.1.*,!=2.2.*,!=2.3.0,<3.0.0dev,>=1.31.5 in c:\\users\\bobse\\appdata\\local\\programs\\python\\python311\\lib\\site-packages (from google-api-python-client>=1.5.5->pygsheets) (2.11.0)\n",
      "Requirement already satisfied: uritemplate<5,>=3.0.1 in c:\\users\\bobse\\appdata\\local\\programs\\python\\python311\\lib\\site-packages (from google-api-python-client>=1.5.5->pygsheets) (4.1.1)\n",
      "Requirement already satisfied: cachetools<6.0,>=2.0.0 in c:\\users\\bobse\\appdata\\local\\programs\\python\\python311\\lib\\site-packages (from google-auth>=1.12.0->gspread) (5.2.0)\n",
      "Requirement already satisfied: pyasn1-modules>=0.2.1 in c:\\users\\bobse\\appdata\\local\\programs\\python\\python311\\lib\\site-packages (from google-auth>=1.12.0->gspread) (0.2.8)\n",
      "Requirement already satisfied: six>=1.9.0 in c:\\users\\bobse\\appdata\\roaming\\python\\python311\\site-packages (from google-auth>=1.12.0->gspread) (1.16.0)\n",
      "Requirement already satisfied: rsa<5,>=3.1.4 in c:\\users\\bobse\\appdata\\local\\programs\\python\\python311\\lib\\site-packages (from google-auth>=1.12.0->gspread) (4.9)\n",
      "Requirement already satisfied: requests-oauthlib>=0.7.0 in c:\\users\\bobse\\appdata\\local\\programs\\python\\python311\\lib\\site-packages (from google-auth-oauthlib->pygsheets) (1.3.1)\n",
      "Requirement already satisfied: appdirs<2.0.0,>=1.4.3 in c:\\users\\bobse\\appdata\\local\\programs\\python\\python311\\lib\\site-packages (from pyppeteer>=0.0.14->requests_html) (1.4.4)\n",
      "Requirement already satisfied: certifi>=2021 in c:\\users\\bobse\\appdata\\local\\programs\\python\\python311\\lib\\site-packages (from pyppeteer>=0.0.14->requests_html) (2022.9.24)\n",
      "Requirement already satisfied: importlib-metadata>=1.4 in c:\\users\\bobse\\appdata\\local\\programs\\python\\python311\\lib\\site-packages (from pyppeteer>=0.0.14->requests_html) (5.1.0)\n",
      "Requirement already satisfied: pyee<9.0.0,>=8.1.0 in c:\\users\\bobse\\appdata\\local\\programs\\python\\python311\\lib\\site-packages (from pyppeteer>=0.0.14->requests_html) (8.2.2)\n",
      "Requirement already satisfied: websockets<11.0,>=10.0 in c:\\users\\bobse\\appdata\\local\\programs\\python\\python311\\lib\\site-packages (from pyppeteer>=0.0.14->requests_html) (10.4)\n",
      "Requirement already satisfied: colorama in c:\\users\\bobse\\appdata\\roaming\\python\\python311\\site-packages (from tqdm->webdriver_manager) (0.4.6)\n",
      "Requirement already satisfied: soupsieve>1.2 in c:\\users\\bobse\\appdata\\local\\programs\\python\\python311\\lib\\site-packages (from beautifulsoup4->bs4) (2.3.2.post1)\n",
      "Requirement already satisfied: cssselect>=1.2.0 in c:\\users\\bobse\\appdata\\local\\programs\\python\\python311\\lib\\site-packages (from pyquery->requests_html) (1.2.0)\n",
      "Requirement already satisfied: charset-normalizer<4,>=2 in c:\\users\\bobse\\appdata\\local\\programs\\python\\python311\\lib\\site-packages (from requests->requests_html) (2.1.1)\n",
      "Requirement already satisfied: idna<4,>=2.5 in c:\\users\\bobse\\appdata\\local\\programs\\python\\python311\\lib\\site-packages (from requests->requests_html) (3.4)\n",
      "Requirement already satisfied: googleapis-common-protos<2.0dev,>=1.56.2 in c:\\users\\bobse\\appdata\\local\\programs\\python\\python311\\lib\\site-packages (from google-api-core!=2.0.*,!=2.1.*,!=2.2.*,!=2.3.0,<3.0.0dev,>=1.31.5->google-api-python-client>=1.5.5->pygsheets) (1.56.4)\n",
      "Requirement already satisfied: protobuf!=3.20.0,!=3.20.1,!=4.21.0,!=4.21.1,!=4.21.2,!=4.21.3,!=4.21.4,!=4.21.5,<5.0.0dev,>=3.19.5 in c:\\users\\bobse\\appdata\\local\\programs\\python\\python311\\lib\\site-packages (from google-api-core!=2.0.*,!=2.1.*,!=2.2.*,!=2.3.0,<3.0.0dev,>=1.31.5->google-api-python-client>=1.5.5->pygsheets) (4.21.12)\n",
      "Requirement already satisfied: zipp>=0.5 in c:\\users\\bobse\\appdata\\local\\programs\\python\\python311\\lib\\site-packages (from importlib-metadata>=1.4->pyppeteer>=0.0.14->requests_html) (3.10.0)\n",
      "Requirement already satisfied: pyasn1<0.5.0,>=0.4.6 in c:\\users\\bobse\\appdata\\local\\programs\\python\\python311\\lib\\site-packages (from pyasn1-modules>=0.2.1->google-auth>=1.12.0->gspread) (0.4.8)\n",
      "Requirement already satisfied: oauthlib>=3.0.0 in c:\\users\\bobse\\appdata\\local\\programs\\python\\python311\\lib\\site-packages (from requests-oauthlib>=0.7.0->google-auth-oauthlib->pygsheets) (3.2.2)\n"
     ]
    },
    {
     "name": "stderr",
     "output_type": "stream",
     "text": [
      "\n",
      "[notice] A new release of pip is available: 23.2.1 -> 24.0\n",
      "[notice] To update, run: python.exe -m pip install --upgrade pip\n"
     ]
    }
   ],
   "source": [
    "!pip3 install   bs4 lxml numpy pandas matplotlib pygsheets \\\n",
    "                gspread requests_html urllib3 selenium \\\n",
    "                msedge-selenium-tools webdriver_manager openpyxl"
   ]
  },
  {
   "cell_type": "code",
   "execution_count": 1,
   "metadata": {},
   "outputs": [],
   "source": [
    "from bs4 import BeautifulSoup as bs #to scrapping website\n",
    "import requests #to make a request acces for scrapping \n",
    "import numpy as np #to make an array/slice\n",
    "import pandas as pd #to manipulate data\n",
    "import gspread #to push to gspreadsheet\n",
    "import pygsheets #API to gspreadsheet\n",
    "import re\n",
    "import urllib\n",
    "from tqdm import tqdm\n",
    "import os\n",
    "import urllib.request\n",
    "from urllib.request import urlopen\n",
    "import selenium\n",
    "from selenium import webdriver\n",
    "from selenium.webdriver.common.by import By\n",
    "from msedge.selenium_tools import Edge, EdgeOptions\n",
    "from webdriver_manager.microsoft import EdgeChromiumDriverManager\n",
    "from selenium.webdriver.chrome.options import Options\n",
    "import time\n",
    "import openpyxl"
   ]
  },
  {
   "cell_type": "code",
   "execution_count": 96,
   "metadata": {},
   "outputs": [],
   "source": [
    "# Configure Edge options\n",
    "options = EdgeOptions()\n",
    "options.use_chromium = True  # Use Chromium-based Edge\n",
    "options.add_argument('--headless')\n",
    "options.add_argument('--disable-gpu')"
   ]
  },
  {
   "cell_type": "code",
   "execution_count": 97,
   "metadata": {},
   "outputs": [
    {
     "name": "stderr",
     "output_type": "stream",
     "text": [
      "C:\\Users\\bobse\\AppData\\Local\\Temp\\ipykernel_41896\\3888786914.py:2: DeprecationWarning: Selenium Tools for Microsoft Edge is deprecated. Please upgrade to Selenium 4 which has built-in support for Microsoft Edge (Chromium): https://docs.microsoft.com/en-us/microsoft-edge/webdriver-chromium/#upgrading-from-selenium-3\n",
      "  driver = Edge(EdgeChromiumDriverManager().install(), options=options)\n"
     ]
    }
   ],
   "source": [
    "# Initialize Edge WebDriver using the EdgeChromiumDriverManager and options\n",
    "driver = Edge(EdgeChromiumDriverManager().install(), options=options)"
   ]
  },
  {
   "cell_type": "code",
   "execution_count": 98,
   "metadata": {},
   "outputs": [],
   "source": [
    "url = \"https://www.huntstreet.com/shop/all/{}?type={}&page={}\""
   ]
  },
  {
   "cell_type": "code",
   "execution_count": 110,
   "metadata": {},
   "outputs": [
    {
     "name": "stderr",
     "output_type": "stream",
     "text": [
      "100%|██████████| 139/139 [09:06<00:00,  3.93s/it]\n",
      "100%|██████████| 139/139 [07:57<00:00,  3.43s/it]\n",
      "100%|██████████| 139/139 [01:32<00:00,  1.50it/s]\n",
      "100%|██████████| 139/139 [06:56<00:00,  3.00s/it]\n",
      "100%|██████████| 139/139 [01:35<00:00,  1.46it/s]\n",
      "100%|██████████| 139/139 [01:31<00:00,  1.52it/s]\n",
      "100%|██████████| 139/139 [02:39<00:00,  1.15s/it]\n",
      "100%|██████████| 139/139 [01:20<00:00,  1.72it/s]\n",
      "100%|██████████| 139/139 [01:24<00:00,  1.65it/s]\n",
      "100%|██████████| 139/139 [00:58<00:00,  2.37it/s]\n",
      "100%|██████████| 139/139 [00:55<00:00,  2.51it/s]\n",
      "100%|██████████| 139/139 [01:15<00:00,  1.84it/s]\n",
      "100%|██████████| 139/139 [01:19<00:00,  1.74it/s]\n",
      "100%|██████████| 13/13 [38:34<00:00, 178.01s/it]\n"
     ]
    }
   ],
   "source": [
    "Photos = []\n",
    "Category = []\n",
    "Sub_Category = []\n",
    "Current_Prices = []\n",
    "\n",
    "category = ['bags', 'shoes', 'accessories', 'clothing', 'beauty']\n",
    "\n",
    "for categories in category:\n",
    "    for sub_categories in tqdm(range(1,14)):\n",
    "        for pages in tqdm(range(1,140)):\n",
    "            driver.get(url.format(categories, sub_categories, pages))\n",
    "            # time.sleep(2)\n",
    "            try:\n",
    "                for index in range(1,40):\n",
    "                    photo = driver.find_element(by=By.XPATH, value=f'//*[@id=\"v-product-list\"]/div[2]/div[4]/div[{index}]/div[1]/div/a/img').get_attribute('src')\n",
    "                    try:\n",
    "                        current_price = driver.find_element(by=By.XPATH, value=f'//*[@id=\"v-product-list\"]/div[2]/div[4]/div[{index}]/div[2]/div[3]/span[2]').text\n",
    "                    except:\n",
    "                        current_price = driver.find_element(by=By.XPATH, value=f'//*[@id=\"v-product-list\"]/div[2]/div[4]/div[{index}]/div[2]/div[3]/span').text\n",
    "                    Photos.append(photo)\n",
    "                    Category.append(categories)\n",
    "                    Sub_Category.append(sub_categories)\n",
    "                    Current_Prices.append(current_price)\n",
    "            except:\n",
    "                continue"
   ]
  },
  {
   "cell_type": "code",
   "execution_count": 111,
   "metadata": {},
   "outputs": [],
   "source": [
    "# url_label = \"https://www.huntstreet.com/shop/all/{}\""
   ]
  },
  {
   "cell_type": "code",
   "execution_count": 112,
   "metadata": {},
   "outputs": [],
   "source": [
    "# Label = []\n",
    "# Name = []\n",
    "\n",
    "# category = ['bags', 'shoes', 'accessories', 'clothing', 'beauty']\n",
    "# category_index = {'bags': 1, 'shoes': 2, 'accessories': 3, 'clothing': 4, 'beauty': 5}\n",
    "\n",
    "# for categories in category:\n",
    "#     driver.get(url_label.format(categories))\n",
    "#     time.sleep(10)\n",
    "#     try:\n",
    "#         index = category_index[categories]\n",
    "#         xpath_index = f'//*[@id=\"v-product-list\"]/div[1]/div[1]/div[3]/div[2]/div[{index}'\n",
    "#         for inner in range(1, 60):\n",
    "#             xpath_inner = xpath_index + f']/div[2]/ul/li[{inner}]/label'\n",
    "\n",
    "#             label = driver.find_element(by=By.XPATH, value=xpath_inner).get_attribute(\"for\")\n",
    "#             name = driver.find_element(by=By.XPATH, value=xpath_inner).get_attribute(\"outerHTML\")\n",
    "#             Label.append(label)\n",
    "#             Name.append(name)\n",
    "#     except:\n",
    "#         continue\n",
    "\n",
    "# Label = [int(label.split('-')[1]) for label in Label]\n",
    "# Name = [name.split('>')[1].split('<')[0] for name in Name]"
   ]
  },
  {
   "cell_type": "code",
   "execution_count": 113,
   "metadata": {},
   "outputs": [],
   "source": [
    "hunstreet_data = pd.DataFrame({\n",
    "    'Category' : Category,\n",
    "    'Sub_Category' : Sub_Category,\n",
    "    'Current_Price' : Current_Prices,\n",
    "    'Photo' : Photos\n",
    "})\n",
    "\n",
    "# label_data = dict(zip(Label, Name))"
   ]
  },
  {
   "cell_type": "code",
   "execution_count": 114,
   "metadata": {},
   "outputs": [
    {
     "data": {
      "text/plain": [
       "{2: 'Tote',\n",
       " 3: 'Briefcase',\n",
       " 4: 'Crossbody',\n",
       " 5: 'Backpack',\n",
       " 6: 'Luggage &amp; Travel',\n",
       " 7: 'Clutch',\n",
       " 1: 'Shoulder',\n",
       " 12: 'Pumps',\n",
       " 8: 'Boots',\n",
       " 9: 'Flats',\n",
       " 10: 'Loafers',\n",
       " 11: 'Oxfords',\n",
       " 13: 'Sandals',\n",
       " 14: 'Wedges',\n",
       " 15: 'Sneakers',\n",
       " 23: 'Watches',\n",
       " 24: 'Keychains &amp; Charms',\n",
       " 25: 'Others',\n",
       " 22: 'Wallets &amp; Card Holders',\n",
       " 36: 'Baby Gear',\n",
       " 37: 'Pouch',\n",
       " 38: 'Beauty',\n",
       " 16: 'Belts',\n",
       " 17: 'Jewelry',\n",
       " 18: 'Headgear',\n",
       " 19: 'Scarves',\n",
       " 20: 'Eyewear',\n",
       " 21: 'Ties',\n",
       " 33: 'Suit',\n",
       " 26: 'Dresses',\n",
       " 27: 'Tops',\n",
       " 28: 'Outerwear',\n",
       " 29: 'Pants',\n",
       " 30: 'Jeans',\n",
       " 31: 'Shorts',\n",
       " 32: 'Skirt',\n",
       " 34: 'Onesie',\n",
       " 35: 'Set',\n",
       " 39: 'Make Up',\n",
       " 40: 'Perfume',\n",
       " 41: 'Candles',\n",
       " 42: 'Skincare'}"
      ]
     },
     "execution_count": 114,
     "metadata": {},
     "output_type": "execute_result"
    }
   ],
   "source": [
    "# label_data"
   ]
  },
  {
   "cell_type": "code",
   "execution_count": 116,
   "metadata": {},
   "outputs": [],
   "source": [
    "# Map Sub_Category to Name using label_data\n",
    "# hunstreet_data['New_SubCategory'] = hunstreet_data['Sub_Category'].map(label_data)"
   ]
  },
  {
   "cell_type": "code",
   "execution_count": 117,
   "metadata": {},
   "outputs": [],
   "source": [
    "hunstreet_data['Current_Price'] = hunstreet_data['Current_Price'].astype(str)\n",
    "hunstreet_data['Current_Price'] = hunstreet_data['Current_Price'].str.replace(',','',regex=True)\n",
    "hunstreet_data['Current_Price'] = hunstreet_data['Current_Price'].str.replace('IDR','',regex=True).str.strip()"
   ]
  },
  {
   "cell_type": "code",
   "execution_count": 119,
   "metadata": {},
   "outputs": [
    {
     "name": "stdout",
     "output_type": "stream",
     "text": [
      "Images downloaded and renamed successfully.\n"
     ]
    }
   ],
   "source": [
    "# Create a directory to store the images\n",
    "os.makedirs('images_subcategory', exist_ok=True)\n",
    "\n",
    "# Download and rename each image\n",
    "for index, row in hunstreet_data.iterrows():\n",
    "    file_name = row['New_SubCategory']\n",
    "    image_url = row['Photo']\n",
    "    response = requests.get(image_url)\n",
    "    if response.status_code == 200:\n",
    "        with open(f'images_subcategory/{file_name}_{index}.jpg', 'wb') as file:\n",
    "            file.write(response.content)\n",
    "    else:\n",
    "        print(f\"Failed to download image for '{file_name}'\")\n",
    "\n",
    "print(\"Images downloaded and renamed successfully.\")"
   ]
  }
 ],
 "metadata": {
  "kernelspec": {
   "display_name": "Python 3.11.0 64-bit",
   "language": "python",
   "name": "python3"
  },
  "language_info": {
   "codemirror_mode": {
    "name": "ipython",
    "version": 3
   },
   "file_extension": ".py",
   "mimetype": "text/x-python",
   "name": "python",
   "nbconvert_exporter": "python",
   "pygments_lexer": "ipython3",
   "version": "3.11.0"
  },
  "orig_nbformat": 4,
  "vscode": {
   "interpreter": {
    "hash": "6bd11c9891f07b4aa271d7d62e8106718aa8856b50b71383dd8bcc78d4e451f3"
   }
  }
 },
 "nbformat": 4,
 "nbformat_minor": 2
}
